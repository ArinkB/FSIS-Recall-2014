{
 "cells": [
  {
   "cell_type": "code",
   "execution_count": 5,
   "metadata": {},
   "outputs": [],
   "source": [
    "import pandas as pd"
   ]
  },
  {
   "cell_type": "code",
   "execution_count": 6,
   "metadata": {},
   "outputs": [
    {
     "data": {
      "text/plain": [
       "'C:\\\\Users\\\\Work\\\\Desktop\\\\github\\\\CodeLou\\\\PythonDataAnalysis'"
      ]
     },
     "execution_count": 6,
     "metadata": {},
     "output_type": "execute_result"
    }
   ],
   "source": [
    "import os\n",
    "os.getcwd()"
   ]
  },
  {
   "cell_type": "code",
   "execution_count": 7,
   "metadata": {},
   "outputs": [],
   "source": [
    "df = pd.read_excel(r\".\\FSIS-Recall-Summary-2014.xlsx\")\n"
   ]
  },
  {
   "cell_type": "code",
   "execution_count": 8,
   "metadata": {},
   "outputs": [
    {
     "data": {
      "text/html": [
       "<div>\n",
       "<style scoped>\n",
       "    .dataframe tbody tr th:only-of-type {\n",
       "        vertical-align: middle;\n",
       "    }\n",
       "\n",
       "    .dataframe tbody tr th {\n",
       "        vertical-align: top;\n",
       "    }\n",
       "\n",
       "    .dataframe thead th {\n",
       "        text-align: right;\n",
       "    }\n",
       "</style>\n",
       "<table border=\"1\" class=\"dataframe\">\n",
       "  <thead>\n",
       "    <tr style=\"text-align: right;\">\n",
       "      <th></th>\n",
       "      <th>CY 2014 Recalls</th>\n",
       "      <th>Unnamed: 1</th>\n",
       "      <th>Unnamed: 2</th>\n",
       "      <th>Unnamed: 3</th>\n",
       "      <th>Unnamed: 4</th>\n",
       "      <th>Unnamed: 5</th>\n",
       "    </tr>\n",
       "  </thead>\n",
       "  <tbody>\n",
       "    <tr>\n",
       "      <th>86</th>\n",
       "      <td>2014-12-22 00:00:00</td>\n",
       "      <td>086-2014</td>\n",
       "      <td>III</td>\n",
       "      <td>Hickory Smoked Sliced Bacon</td>\n",
       "      <td>Undeclared Substance</td>\n",
       "      <td>80050</td>\n",
       "    </tr>\n",
       "    <tr>\n",
       "      <th>18</th>\n",
       "      <td>2014-03-07 00:00:00</td>\n",
       "      <td>018-2014</td>\n",
       "      <td>I</td>\n",
       "      <td>Chicken Products</td>\n",
       "      <td>Undeclared Allergen</td>\n",
       "      <td>29200</td>\n",
       "    </tr>\n",
       "    <tr>\n",
       "      <th>75</th>\n",
       "      <td>2014-10-30 00:00:00</td>\n",
       "      <td>075-2014</td>\n",
       "      <td>I</td>\n",
       "      <td>Boudin Products</td>\n",
       "      <td>Other</td>\n",
       "      <td>25765</td>\n",
       "    </tr>\n",
       "    <tr>\n",
       "      <th>72</th>\n",
       "      <td>2014-10-24 00:00:00</td>\n",
       "      <td>072-2014</td>\n",
       "      <td>II</td>\n",
       "      <td>Salad with Chicken</td>\n",
       "      <td>Undeclared Allergen</td>\n",
       "      <td>377</td>\n",
       "    </tr>\n",
       "    <tr>\n",
       "      <th>21</th>\n",
       "      <td>2014-04-04 00:00:00</td>\n",
       "      <td>021-2014</td>\n",
       "      <td>II</td>\n",
       "      <td>Chicken Nugget Products</td>\n",
       "      <td>Extraneous Material</td>\n",
       "      <td>75320</td>\n",
       "    </tr>\n",
       "    <tr>\n",
       "      <th>71</th>\n",
       "      <td>2014-10-17 00:00:00</td>\n",
       "      <td>071-2014</td>\n",
       "      <td>I</td>\n",
       "      <td>Lamb Products</td>\n",
       "      <td>Other</td>\n",
       "      <td>27948</td>\n",
       "    </tr>\n",
       "    <tr>\n",
       "      <th>31</th>\n",
       "      <td>2014-05-21 00:00:00</td>\n",
       "      <td>031-2014</td>\n",
       "      <td>I</td>\n",
       "      <td>Chicken Breast and Tender Products</td>\n",
       "      <td>Undeclared Allergen</td>\n",
       "      <td>23250</td>\n",
       "    </tr>\n",
       "    <tr>\n",
       "      <th>6</th>\n",
       "      <td>2014-01-19 00:00:00</td>\n",
       "      <td>006-2014</td>\n",
       "      <td>II</td>\n",
       "      <td>Cheeseburger Mac Products</td>\n",
       "      <td>Undeclared Allergen</td>\n",
       "      <td>1770000</td>\n",
       "    </tr>\n",
       "    <tr>\n",
       "      <th>33</th>\n",
       "      <td>2014-05-29 00:00:00</td>\n",
       "      <td>033-2014</td>\n",
       "      <td>III</td>\n",
       "      <td>Boneless Skinless Chicken Breasts</td>\n",
       "      <td>Other</td>\n",
       "      <td>363</td>\n",
       "    </tr>\n",
       "    <tr>\n",
       "      <th>77</th>\n",
       "      <td>2014-11-09 00:00:00</td>\n",
       "      <td>077-2014</td>\n",
       "      <td>II</td>\n",
       "      <td>Frozen Pork Products</td>\n",
       "      <td>Undeclared Allergen</td>\n",
       "      <td>4465</td>\n",
       "    </tr>\n",
       "  </tbody>\n",
       "</table>\n",
       "</div>"
      ],
      "text/plain": [
       "        CY 2014 Recalls Unnamed: 1 Unnamed: 2  \\\n",
       "86  2014-12-22 00:00:00   086-2014        III   \n",
       "18  2014-03-07 00:00:00   018-2014          I   \n",
       "75  2014-10-30 00:00:00   075-2014          I   \n",
       "72  2014-10-24 00:00:00   072-2014         II   \n",
       "21  2014-04-04 00:00:00   021-2014         II   \n",
       "71  2014-10-17 00:00:00   071-2014          I   \n",
       "31  2014-05-21 00:00:00   031-2014          I   \n",
       "6   2014-01-19 00:00:00   006-2014         II   \n",
       "33  2014-05-29 00:00:00   033-2014        III   \n",
       "77  2014-11-09 00:00:00   077-2014         II   \n",
       "\n",
       "                            Unnamed: 3            Unnamed: 4 Unnamed: 5  \n",
       "86         Hickory Smoked Sliced Bacon  Undeclared Substance      80050  \n",
       "18                    Chicken Products   Undeclared Allergen      29200  \n",
       "75                     Boudin Products                 Other      25765  \n",
       "72                  Salad with Chicken   Undeclared Allergen        377  \n",
       "21             Chicken Nugget Products   Extraneous Material      75320  \n",
       "71                       Lamb Products                 Other      27948  \n",
       "31  Chicken Breast and Tender Products   Undeclared Allergen      23250  \n",
       "6            Cheeseburger Mac Products   Undeclared Allergen    1770000  \n",
       "33  Boneless Skinless Chicken Breasts                  Other        363  \n",
       "77                Frozen Pork Products   Undeclared Allergen       4465  "
      ]
     },
     "execution_count": 8,
     "metadata": {},
     "output_type": "execute_result"
    }
   ],
   "source": [
    "df.sample(10)"
   ]
  },
  {
   "cell_type": "code",
   "execution_count": null,
   "metadata": {},
   "outputs": [],
   "source": []
  }
 ],
 "metadata": {
  "kernelspec": {
   "display_name": "Python 3",
   "language": "python",
   "name": "python3"
  },
  "language_info": {
   "codemirror_mode": {
    "name": "ipython",
    "version": 3
   },
   "file_extension": ".py",
   "mimetype": "text/x-python",
   "name": "python",
   "nbconvert_exporter": "python",
   "pygments_lexer": "ipython3",
   "version": "3.7.4"
  }
 },
 "nbformat": 4,
 "nbformat_minor": 2
}
