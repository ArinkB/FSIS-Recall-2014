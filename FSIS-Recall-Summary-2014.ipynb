{
 "cells": [
  {
   "cell_type": "code",
   "execution_count": 2,
   "metadata": {},
   "outputs": [],
   "source": [
    "import pandas as pd"
   ]
  },
  {
   "cell_type": "code",
   "execution_count": 3,
   "metadata": {},
   "outputs": [
    {
     "data": {
      "text/plain": [
       "'C:\\\\Users\\\\Work\\\\Desktop\\\\github\\\\CodeLou\\\\PythonDataAnalysis'"
      ]
     },
     "execution_count": 3,
     "metadata": {},
     "output_type": "execute_result"
    }
   ],
   "source": [
    "import os\n",
    "os.getcwd()"
   ]
  },
  {
   "cell_type": "code",
   "execution_count": 13,
   "metadata": {},
   "outputs": [
    {
     "name": "stdout",
     "output_type": "stream",
     "text": [
      "        CY 2014 Recalls     Unnamed: 1    Unnamed: 2  \\\n",
      "0           Recall Date  Recall Number  Recall Class   \n",
      "1   2014-01-10 00:00:00       001-2014             I   \n",
      "2   2014-01-13 00:00:00       002-2014             I   \n",
      "3   2014-01-15 00:00:00       003-2014             I   \n",
      "4   2014-01-17 00:00:00       004-2014            II   \n",
      "..                  ...            ...           ...   \n",
      "90  2014-12-27 00:00:00       090-2014             I   \n",
      "91  2014-12-27 00:00:00       091-2014             I   \n",
      "92  2014-12-29 00:00:00       092-2014             I   \n",
      "93  2014-12-31 00:00:00       093-2014             I   \n",
      "94  2014-12-31 00:00:00       094-2014             I   \n",
      "\n",
      "                                 Unnamed: 3           Unnamed: 4  \\\n",
      "0                                   Product    Reason for Recall   \n",
      "1   Mechanically Separated Chicken Products           Salmonella   \n",
      "2                     Various Beef Products                Other   \n",
      "3                               Beef Franks  Undeclared Allergen   \n",
      "4                    Beef and Pork Products  Undeclared Allergen   \n",
      "..                                      ...                  ...   \n",
      "90                            Pork products  Undeclared Allergen   \n",
      "91                Chicken and Beef Products  Undeclared Allergen   \n",
      "92                   Beef and Pork Products  Undeclared Allergen   \n",
      "93                         Chicken Products  Undeclared Allergen   \n",
      "94                     Canned Soup Products  Undeclared Allergen   \n",
      "\n",
      "         Unnamed: 5  \n",
      "0   Pounds Recalled  \n",
      "1             33840  \n",
      "2             42103  \n",
      "3              2664  \n",
      "4            130000  \n",
      "..              ...  \n",
      "90            83666  \n",
      "91            55813  \n",
      "92            38400  \n",
      "93             5300  \n",
      "94             4474  \n",
      "\n",
      "[95 rows x 6 columns]\n"
     ]
    }
   ],
   "source": [
    "df = pd.read_excel(r\"C:\\Users\\Work\\Downloads\\FSIS-Recall-Summary-2014.xlsx\")\n",
    "print (df)"
   ]
  },
  {
   "cell_type": "code",
   "execution_count": null,
   "metadata": {},
   "outputs": [],
   "source": []
  }
 ],
 "metadata": {
  "kernelspec": {
   "display_name": "Python 3",
   "language": "python",
   "name": "python3"
  },
  "language_info": {
   "codemirror_mode": {
    "name": "ipython",
    "version": 3
   },
   "file_extension": ".py",
   "mimetype": "text/x-python",
   "name": "python",
   "nbconvert_exporter": "python",
   "pygments_lexer": "ipython3",
   "version": "3.7.4"
  }
 },
 "nbformat": 4,
 "nbformat_minor": 2
}
