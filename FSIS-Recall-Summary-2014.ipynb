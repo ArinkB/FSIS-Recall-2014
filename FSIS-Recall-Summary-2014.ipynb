{
 "cells": [
  {
   "cell_type": "code",
   "execution_count": 1,
   "metadata": {},
   "outputs": [],
   "source": [
    "import pandas as pd"
   ]
  },
  {
   "cell_type": "code",
   "execution_count": 2,
   "metadata": {},
   "outputs": [
    {
     "data": {
      "text/plain": [
       "'C:\\\\Users\\\\Work\\\\Desktop\\\\github\\\\CodeLou\\\\PythonDataAnalysis'"
      ]
     },
     "execution_count": 2,
     "metadata": {},
     "output_type": "execute_result"
    }
   ],
   "source": [
    "import os\n",
    "os.getcwd()"
   ]
  },
  {
   "cell_type": "code",
   "execution_count": 3,
   "metadata": {},
   "outputs": [],
   "source": [
    "df = pd.read_excel(r\"C:\\Users\\Work\\Downloads\\FSIS-Recall-Summary-2014.xlsx\")\n"
   ]
  },
  {
   "cell_type": "code",
   "execution_count": 4,
   "metadata": {},
   "outputs": [
    {
     "data": {
      "text/html": [
       "<div>\n",
       "<style scoped>\n",
       "    .dataframe tbody tr th:only-of-type {\n",
       "        vertical-align: middle;\n",
       "    }\n",
       "\n",
       "    .dataframe tbody tr th {\n",
       "        vertical-align: top;\n",
       "    }\n",
       "\n",
       "    .dataframe thead th {\n",
       "        text-align: right;\n",
       "    }\n",
       "</style>\n",
       "<table border=\"1\" class=\"dataframe\">\n",
       "  <thead>\n",
       "    <tr style=\"text-align: right;\">\n",
       "      <th></th>\n",
       "      <th>CY 2014 Recalls</th>\n",
       "      <th>Unnamed: 1</th>\n",
       "      <th>Unnamed: 2</th>\n",
       "      <th>Unnamed: 3</th>\n",
       "      <th>Unnamed: 4</th>\n",
       "      <th>Unnamed: 5</th>\n",
       "    </tr>\n",
       "  </thead>\n",
       "  <tbody>\n",
       "    <tr>\n",
       "      <th>7</th>\n",
       "      <td>2014-01-27 00:00:00</td>\n",
       "      <td>007-2014</td>\n",
       "      <td>II</td>\n",
       "      <td>Frozen Chicken Products</td>\n",
       "      <td>Undeclared Allergen</td>\n",
       "      <td>1250000</td>\n",
       "    </tr>\n",
       "    <tr>\n",
       "      <th>74</th>\n",
       "      <td>2014-10-25 00:00:00</td>\n",
       "      <td>074-2014</td>\n",
       "      <td>I</td>\n",
       "      <td>Chicken Products</td>\n",
       "      <td>Other</td>\n",
       "      <td>31689</td>\n",
       "    </tr>\n",
       "    <tr>\n",
       "      <th>38</th>\n",
       "      <td>2014-06-21 00:00:00</td>\n",
       "      <td>038-2014</td>\n",
       "      <td>I</td>\n",
       "      <td>Pork Mini Buns Products</td>\n",
       "      <td>Undeclared Allergen</td>\n",
       "      <td>332</td>\n",
       "    </tr>\n",
       "    <tr>\n",
       "      <th>43</th>\n",
       "      <td>2014-07-03 00:00:00</td>\n",
       "      <td>043-2014</td>\n",
       "      <td>I</td>\n",
       "      <td>Beef Products</td>\n",
       "      <td>Extraneous Material</td>\n",
       "      <td>75465</td>\n",
       "    </tr>\n",
       "    <tr>\n",
       "      <th>22</th>\n",
       "      <td>2014-04-17 00:00:00</td>\n",
       "      <td>022-2014</td>\n",
       "      <td>II</td>\n",
       "      <td>Salami Type Products</td>\n",
       "      <td>Other</td>\n",
       "      <td>5723</td>\n",
       "    </tr>\n",
       "  </tbody>\n",
       "</table>\n",
       "</div>"
      ],
      "text/plain": [
       "        CY 2014 Recalls Unnamed: 1 Unnamed: 2               Unnamed: 3  \\\n",
       "7   2014-01-27 00:00:00   007-2014         II  Frozen Chicken Products   \n",
       "74  2014-10-25 00:00:00   074-2014          I         Chicken Products   \n",
       "38  2014-06-21 00:00:00   038-2014          I  Pork Mini Buns Products   \n",
       "43  2014-07-03 00:00:00   043-2014          I            Beef Products   \n",
       "22  2014-04-17 00:00:00   022-2014         II     Salami Type Products   \n",
       "\n",
       "             Unnamed: 4 Unnamed: 5  \n",
       "7   Undeclared Allergen    1250000  \n",
       "74                Other      31689  \n",
       "38  Undeclared Allergen        332  \n",
       "43  Extraneous Material      75465  \n",
       "22                Other       5723  "
      ]
     },
     "execution_count": 4,
     "metadata": {},
     "output_type": "execute_result"
    }
   ],
   "source": [
    "df.sample(5)"
   ]
  }
 ],
 "metadata": {
  "kernelspec": {
   "display_name": "Python 3",
   "language": "python",
   "name": "python3"
  },
  "language_info": {
   "codemirror_mode": {
    "name": "ipython",
    "version": 3
   },
   "file_extension": ".py",
   "mimetype": "text/x-python",
   "name": "python",
   "nbconvert_exporter": "python",
   "pygments_lexer": "ipython3",
   "version": "3.7.4"
  }
 },
 "nbformat": 4,
 "nbformat_minor": 2
}
