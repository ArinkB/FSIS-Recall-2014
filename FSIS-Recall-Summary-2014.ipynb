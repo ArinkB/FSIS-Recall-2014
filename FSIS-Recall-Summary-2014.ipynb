{
 "cells": [
  {
   "cell_type": "code",
   "execution_count": 5,
   "metadata": {},
   "outputs": [],
   "source": [
    "import pandas as pd"
   ]
  },
  {
   "cell_type": "code",
   "execution_count": 2,
   "metadata": {},
   "outputs": [
    {
     "data": {
      "text/plain": [
       "'C:\\\\Users\\\\Work\\\\Desktop\\\\github\\\\CodeLou\\\\PythonDataAnalysis'"
      ]
     },
     "execution_count": 2,
     "metadata": {},
     "output_type": "execute_result"
    }
   ],
   "source": [
    "import os\n",
    "os.getcwd()"
   ]
  },
  {
   "cell_type": "code",
   "execution_count": 3,
   "metadata": {},
   "outputs": [],
   "source": [
    "df = pd.read_excel(r\"C:\\Users\\Work\\Downloads\\FSIS-Recall-Summary-2014.xlsx\")\n"
   ]
  },
  {
   "cell_type": "code",
   "execution_count": 8,
   "metadata": {},
   "outputs": [
    {
     "data": {
      "text/html": [
       "<div>\n",
       "<style scoped>\n",
       "    .dataframe tbody tr th:only-of-type {\n",
       "        vertical-align: middle;\n",
       "    }\n",
       "\n",
       "    .dataframe tbody tr th {\n",
       "        vertical-align: top;\n",
       "    }\n",
       "\n",
       "    .dataframe thead th {\n",
       "        text-align: right;\n",
       "    }\n",
       "</style>\n",
       "<table border=\"1\" class=\"dataframe\">\n",
       "  <thead>\n",
       "    <tr style=\"text-align: right;\">\n",
       "      <th></th>\n",
       "      <th>CY 2014 Recalls</th>\n",
       "      <th>Unnamed: 1</th>\n",
       "      <th>Unnamed: 2</th>\n",
       "      <th>Unnamed: 3</th>\n",
       "      <th>Unnamed: 4</th>\n",
       "      <th>Unnamed: 5</th>\n",
       "    </tr>\n",
       "  </thead>\n",
       "  <tbody>\n",
       "    <tr>\n",
       "      <th>66</th>\n",
       "      <td>2014-10-04 00:00:00</td>\n",
       "      <td>066-2014</td>\n",
       "      <td>II</td>\n",
       "      <td>Ground Beef Products</td>\n",
       "      <td>Extraneous Material</td>\n",
       "      <td>90987</td>\n",
       "    </tr>\n",
       "    <tr>\n",
       "      <th>15</th>\n",
       "      <td>2014-02-15 00:00:00</td>\n",
       "      <td>015-2014</td>\n",
       "      <td>I</td>\n",
       "      <td>Dried Egg Products</td>\n",
       "      <td>Salmonella</td>\n",
       "      <td>309594</td>\n",
       "    </tr>\n",
       "    <tr>\n",
       "      <th>62</th>\n",
       "      <td>2014-09-27 00:00:00</td>\n",
       "      <td>062-2014</td>\n",
       "      <td>I</td>\n",
       "      <td>Beef Jerky Products</td>\n",
       "      <td>Other</td>\n",
       "      <td>8</td>\n",
       "    </tr>\n",
       "    <tr>\n",
       "      <th>25</th>\n",
       "      <td>2014-04-24 00:00:00</td>\n",
       "      <td>025-2014</td>\n",
       "      <td>I</td>\n",
       "      <td>Baby Back Ribs</td>\n",
       "      <td>Other</td>\n",
       "      <td>36</td>\n",
       "    </tr>\n",
       "    <tr>\n",
       "      <th>35</th>\n",
       "      <td>2014-06-13 00:00:00</td>\n",
       "      <td>035-2014</td>\n",
       "      <td>I</td>\n",
       "      <td>Turkey Base</td>\n",
       "      <td>Undeclared Allergen</td>\n",
       "      <td>3156</td>\n",
       "    </tr>\n",
       "    <tr>\n",
       "      <th>57</th>\n",
       "      <td>2014-09-12 00:00:00</td>\n",
       "      <td>057-2014</td>\n",
       "      <td>I</td>\n",
       "      <td>Pork Sausage</td>\n",
       "      <td>Undeclared Allergen</td>\n",
       "      <td>4820</td>\n",
       "    </tr>\n",
       "    <tr>\n",
       "      <th>85</th>\n",
       "      <td>2014-12-19 00:00:00</td>\n",
       "      <td>085-2014</td>\n",
       "      <td>III</td>\n",
       "      <td>Spicy Sausage Pasta Products</td>\n",
       "      <td>Other</td>\n",
       "      <td>2719</td>\n",
       "    </tr>\n",
       "    <tr>\n",
       "      <th>33</th>\n",
       "      <td>2014-05-29 00:00:00</td>\n",
       "      <td>033-2014</td>\n",
       "      <td>III</td>\n",
       "      <td>Boneless Skinless Chicken Breasts</td>\n",
       "      <td>Other</td>\n",
       "      <td>363</td>\n",
       "    </tr>\n",
       "    <tr>\n",
       "      <th>50</th>\n",
       "      <td>2014-08-06 00:00:00</td>\n",
       "      <td>050-2014</td>\n",
       "      <td>I</td>\n",
       "      <td>Sausage Product</td>\n",
       "      <td>Undeclared Allergen</td>\n",
       "      <td>106800</td>\n",
       "    </tr>\n",
       "    <tr>\n",
       "      <th>41</th>\n",
       "      <td>2014-06-26 00:00:00</td>\n",
       "      <td>041-2014</td>\n",
       "      <td>II</td>\n",
       "      <td>Raw Pork Nugget Products</td>\n",
       "      <td>Undeclared Allergen</td>\n",
       "      <td>14760</td>\n",
       "    </tr>\n",
       "  </tbody>\n",
       "</table>\n",
       "</div>"
      ],
      "text/plain": [
       "        CY 2014 Recalls Unnamed: 1 Unnamed: 2  \\\n",
       "66  2014-10-04 00:00:00   066-2014         II   \n",
       "15  2014-02-15 00:00:00   015-2014          I   \n",
       "62  2014-09-27 00:00:00   062-2014          I   \n",
       "25  2014-04-24 00:00:00   025-2014          I   \n",
       "35  2014-06-13 00:00:00   035-2014          I   \n",
       "57  2014-09-12 00:00:00   057-2014          I   \n",
       "85  2014-12-19 00:00:00   085-2014        III   \n",
       "33  2014-05-29 00:00:00   033-2014        III   \n",
       "50  2014-08-06 00:00:00   050-2014          I   \n",
       "41  2014-06-26 00:00:00   041-2014         II   \n",
       "\n",
       "                            Unnamed: 3           Unnamed: 4 Unnamed: 5  \n",
       "66                Ground Beef Products  Extraneous Material      90987  \n",
       "15                  Dried Egg Products           Salmonella     309594  \n",
       "62                 Beef Jerky Products                Other          8  \n",
       "25                      Baby Back Ribs                Other         36  \n",
       "35                         Turkey Base  Undeclared Allergen       3156  \n",
       "57                        Pork Sausage  Undeclared Allergen       4820  \n",
       "85        Spicy Sausage Pasta Products                Other       2719  \n",
       "33  Boneless Skinless Chicken Breasts                 Other        363  \n",
       "50                     Sausage Product  Undeclared Allergen     106800  \n",
       "41            Raw Pork Nugget Products  Undeclared Allergen      14760  "
      ]
     },
     "execution_count": 8,
     "metadata": {},
     "output_type": "execute_result"
    }
   ],
   "source": [
    "df.sample(10)"
   ]
  }
 ],
 "metadata": {
  "kernelspec": {
   "display_name": "Python 3",
   "language": "python",
   "name": "python3"
  },
  "language_info": {
   "codemirror_mode": {
    "name": "ipython",
    "version": 3
   },
   "file_extension": ".py",
   "mimetype": "text/x-python",
   "name": "python",
   "nbconvert_exporter": "python",
   "pygments_lexer": "ipython3",
   "version": "3.7.4"
  }
 },
 "nbformat": 4,
 "nbformat_minor": 2
}
